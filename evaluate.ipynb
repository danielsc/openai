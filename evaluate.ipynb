{
 "cells": [
  {
   "cell_type": "code",
   "execution_count": null,
   "metadata": {},
   "outputs": [],
   "source": [
    "from azure.ai.ml import MLClient\n",
    "from azure.identity import DefaultAzureCredential\n",
    "\n",
    "ml_client = MLClient(\n",
    "    DefaultAzureCredential(), \n",
    "    subscription_id=\"b0e1b0e0-1c1a-4b1a-8c1a-1b1a0b1a1b1a\", \n",
    "    resource_group_name=\"ray\", \n",
    "    workspace=\"ray\"\n",
    ")"
   ]
  },
  {
   "cell_type": "code",
   "execution_count": 18,
   "metadata": {},
   "outputs": [],
   "source": [
    "endpoint = ml_client.endpoints.get(\"text-davinci-003\")"
   ]
  },
  {
   "cell_type": "code",
   "execution_count": 16,
   "metadata": {},
   "outputs": [
    {
     "name": "stdout",
     "output_type": "stream",
     "text": [
      "{'id': 'cmpl-6aYaMbUqsFAhCzO0cjC7S3TOLds4r', 'object': 'text_completion', 'created': 1674170774, 'model': 'text-davinci-002', 'choices': [{'text': '\\n\\nMy name is Kaitlyn.', 'index': 0, 'finish_reason': 'stop', 'logprobs': None}], 'usage': {'completion_tokens': 9, 'prompt_tokens': 5, 'total_tokens': 14}}\n"
     ]
    }
   ],
   "source": [
    "# a request using requests\n",
    "import requests\n",
    "import json\n",
    "\n",
    "url = endpoint.scoring_url\n",
    "headers = {\n",
    "    \"Content-Type\": \"application/json\",\n",
    "    \"api-key\": endpoint.primary_key\n",
    "}\n",
    "payload = {\n",
    "    \"prompt\": \"What is your name?\",\n",
    "    \"max_tokens\": 200,\n",
    "    \"temperature\": 1.0\n",
    "}\n",
    "\n",
    "r = requests.post(url, headers=headers, json=payload)\n",
    "data = r.json()\n",
    "print(data)"
   ]
  },
  {
   "cell_type": "code",
   "execution_count": null,
   "metadata": {},
   "outputs": [],
   "source": [
    "import mlflow\n",
    "\n",
    "# Load model as a PyFuncModel.\n",
    "model_uri = \"./data/6model\"\n",
    "loaded_model = mlflow.pyfunc.load_model(model_uri)\n",
    "\n",
    "# load test data    \n",
    "import pandas as pd\n",
    "test_data = pd.read_csv(\"./data/1raw/yelp_test.csv\")\n",
    "\n",
    "# Evaluate the model using the test dataset.\n",
    "test_data"
   ]
  },
  {
   "cell_type": "code",
   "execution_count": null,
   "metadata": {},
   "outputs": [],
   "source": [
    "ratings = loaded_model.predict(test_data)"
   ]
  },
  {
   "cell_type": "code",
   "execution_count": null,
   "metadata": {},
   "outputs": [],
   "source": [
    "(test_data.stars == ratings).mean()"
   ]
  },
  {
   "cell_type": "code",
   "execution_count": null,
   "metadata": {},
   "outputs": [],
   "source": [
    "eval_df = pd.DataFrame({\"target\": test_data.stars, \"prediction\": ratings})\n",
    "# squared_diff(eval_df, None)\n",
    "((eval_df[\"prediction\"] - eval_df[\"target\"]) ** 2).mean()"
   ]
  },
  {
   "cell_type": "code",
   "execution_count": null,
   "metadata": {},
   "outputs": [],
   "source": [
    "from mlflow.models import make_metric\n",
    "import numpy as np\n",
    "\n",
    "def mse(eval_df, _builtin_metrics):\n",
    "    \"\"\"\n",
    "    This example custom metric function creates a metric based on the ``prediction`` and\n",
    "    ``target`` columns in ``eval_df`.\n",
    "    \"\"\"\n",
    "    return ((eval_df[\"prediction\"] - eval_df[\"target\"]) ** 2).mean()\n",
    "\n",
    "results = []\n",
    "\n",
    "for i in range(10):\n",
    "    result = mlflow.evaluate(\n",
    "        model_uri,\n",
    "        test_data,\n",
    "        targets=\"stars\",\n",
    "        model_type=\"classifier\",\n",
    "        evaluators=[\"default\"],\n",
    "        custom_metrics=[\n",
    "            make_metric(\n",
    "                eval_fn=mse,\n",
    "                greater_is_better=False,\n",
    "            )\n",
    "        ]\n",
    "    )\n",
    "    print(result.metrics)\n",
    "    results.append(result.metrics)\n",
    "\n",
    "results_df = pd.DataFrame(results)"
   ]
  },
  {
   "cell_type": "code",
   "execution_count": null,
   "metadata": {},
   "outputs": [],
   "source": [
    "total_df = pd.concat([total_df, results_df])\n",
    "\n",
    "\n"
   ]
  },
  {
   "cell_type": "code",
   "execution_count": null,
   "metadata": {},
   "outputs": [],
   "source": [
    "# plot histogram of results.mse\n",
    "import matplotlib.pyplot as plt\n",
    "plt.hist(total_df.mse, bins=10)\n",
    "plt.title(\"Histogram of MSE\")\n",
    "plt.xlabel(\"mse\")\n",
    "plt.ylabel(\"count\")\n",
    "plt.show()\n"
   ]
  },
  {
   "cell_type": "code",
   "execution_count": null,
   "metadata": {},
   "outputs": [],
   "source": [
    "import matplotlib.pyplot as plt\n",
    "plt.hist(total_df.f1_score, bins=10)\n",
    "plt.title(\"Histogram of f1_score\")\n",
    "plt.xlabel(\"f1_score\")\n",
    "plt.ylabel(\"count\")\n",
    "plt.show()"
   ]
  },
  {
   "cell_type": "code",
   "execution_count": null,
   "metadata": {},
   "outputs": [],
   "source": [
    "import matplotlib.pyplot as plt\n",
    "plt.hist(total_df.accuracy_score, bins=10)\n",
    "plt.title(\"Histogram of accuracy_score\")\n",
    "plt.xlabel(\"accuracy_score\")\n",
    "plt.ylabel(\"count\")\n",
    "plt.show()"
   ]
  },
  {
   "cell_type": "code",
   "execution_count": null,
   "metadata": {},
   "outputs": [],
   "source": [
    "total_df.describe()"
   ]
  },
  {
   "cell_type": "code",
   "execution_count": null,
   "metadata": {},
   "outputs": [],
   "source": [
    "import openai\n",
    "openai.api_key = os.environ['OPENAI_API_KEY']\n",
    "openai.api_base = \"https://aoai.openai.azure.com/\"\n",
    "openai.api_type = \"azure\"  \n",
    "openai.api_version = \"2022-06-01-preview\"\n",
    "\n",
    "response = openai.Embedding.create(\n",
    "    input=\"canine companions say\",\n",
    "    engine=\"text-similarity-davinci-001\")"
   ]
  },
  {
   "cell_type": "code",
   "execution_count": null,
   "metadata": {},
   "outputs": [],
   "source": [
    "len(response.data[0].embedding)"
   ]
  },
  {
   "cell_type": "code",
   "execution_count": null,
   "metadata": {},
   "outputs": [],
   "source": [
    "# load yelp_small.csv\n",
    "import pandas as pd\n",
    "yelp_small = pd.read_csv(\"./data/1raw/yelp.csv\")\n",
    "\n",
    "df = yelp_small[[\"text\"]]\n",
    "\n",
    "\n",
    "#create tqdm progress bar\n",
    "from tqdm import tqdm\n",
    "tqdm.pandas()\n",
    "\n",
    "scores = []\n",
    "for text in tqdm(df.text):\n",
    "    response = openai.Embedding.create(\n",
    "        input=text,\n",
    "        engine=\"text-similarity-davinci-001\")\n",
    "    scores.append(response.data[0].embedding)\n",
    "scores = np.array(scores)\n",
    "scores.shape"
   ]
  },
  {
   "cell_type": "code",
   "execution_count": null,
   "metadata": {},
   "outputs": [],
   "source": [
    "import numpy as np\n",
    "stars = np.array(yelp_small.stars)[:len(scores)]"
   ]
  },
  {
   "cell_type": "code",
   "execution_count": null,
   "metadata": {},
   "outputs": [],
   "source": [
    "np.savez(\"./data/2features/yelp_davinci.npz\", embedding=scores, target=stars)"
   ]
  },
  {
   "cell_type": "code",
   "execution_count": 12,
   "metadata": {},
   "outputs": [
    {
     "name": "stdout",
     "output_type": "stream",
     "text": [
      "(29, 1024) (29,)\n",
      "(7, 1024) (7,)\n"
     ]
    }
   ],
   "source": [
    "# load numpy data from npz file\n",
    "validation = np.load(\"./data/2feature/validation_mini_ada.npz\")\n",
    "train = np.load(\"./data/2feature/train_mini_ada.npz\")\n",
    "t_embedding = train['embedding']\n",
    "t_target = train['target']\n",
    "v_embedding = validation['embedding']\n",
    "v_target = validation['target']\n",
    "print(t_embedding.shape, t_target.shape)\n",
    "print(v_embedding.shape, v_target.shape)\n"
   ]
  },
  {
   "cell_type": "code",
   "execution_count": null,
   "metadata": {},
   "outputs": [],
   "source": [
    "# train a pytorch model on the embeddings\n",
    "import torch\n",
    "import torch.nn as nn\n",
    "import torch.nn.functional as F\n",
    "import torch.optim as optim\n",
    "from torch.utils.data import Dataset, DataLoader\n",
    "\n",
    "class YelpDataset(Dataset):\n",
    "    def __init__(self, x, y):\n",
    "        self.x = x.astype(np.float32)\n",
    "        self.y = y-1\n",
    "    def __len__(self):\n",
    "        return len(self.x)\n",
    "    def __getitem__(self, idx):\n",
    "        return self.x[idx], self.y[idx]\n",
    "\n",
    "# load data\n",
    "x = np.load(\"./data/2features/yelp_small_text.npy\")\n",
    "y = np.load(\"./data/2features/yelp_small_stars.npy\")\n",
    "\n",
    "# split into train and test\n",
    "from sklearn.model_selection import train_test_split\n",
    "x_train, x_test, y_train, y_test = train_test_split(x, y, test_size=0.2, random_state=42)\n",
    "\n",
    "# create dataset\n",
    "train_dataset = YelpDataset(x_train, y_train)\n",
    "test_dataset = YelpDataset(x_test, y_test)\n",
    "\n",
    "# create dataloader\n",
    "train_loader = DataLoader(train_dataset, batch_size=32, shuffle=True)\n",
    "test_loader = DataLoader(test_dataset, batch_size=32, shuffle=True)\n",
    "\n",
    "# define model\n",
    "class YelpModel(nn.Module):\n",
    "    def __init__(self):\n",
    "        super(YelpModel, self).__init__()\n",
    "        self.fc1 = nn.Linear(4096, 512)\n",
    "        self.fc2 = nn.Linear(512, 5)\n",
    "    def forward(self, x):\n",
    "        x = F.relu(self.fc1(x))\n",
    "        x = self.fc2(x)\n",
    "        return x\n",
    "\n",
    "# create model\n",
    "model = YelpModel()\n",
    "\n",
    "# define loss function\n",
    "criterion = nn.CrossEntropyLoss()\n",
    "\n",
    "# define optimizer\n",
    "optimizer = optim.Adam(model.parameters(), lr=0.001)\n",
    "\n",
    "# train model\n",
    "for epoch in range(20):\n",
    "    for batch_idx, (data, target) in enumerate(train_loader):\n",
    "        optimizer.zero_grad()\n",
    "        output = model(data)\n",
    "        loss = criterion(output, target)\n",
    "        loss.backward()\n",
    "        optimizer.step()\n",
    "        if batch_idx % 100 == 0:\n",
    "            print('Train Epoch: {} [{}/{} ({:.0f}%)]\\tLoss: {:.6f}'.format(\n",
    "                epoch, batch_idx * len(data), len(train_loader.dataset),\n",
    "                100. * batch_idx / len(train_loader), loss.item()))\n",
    "\n",
    "\n",
    "# test model \n",
    "model.eval()\n",
    "test_loss = 0\n",
    "correct = 0\n",
    "print(\"Testing model\")\n",
    "\n",
    "with torch.no_grad():\n",
    "    for data, target in test_loader:\n",
    "        output = model(data)\n",
    "        test_loss += criterion(output, target).item() # sum up batch loss\n",
    "        pred = output.argmax(dim=1, keepdim=True) # get the index of the max log-probability\n",
    "        correct += pred.eq(target.view_as(pred)).sum().item()\n",
    "\n",
    "test_loss /= len(test_loader.dataset)\n",
    "\n",
    "# print loss and accuracy\n",
    "print('Test set: Average loss: {:.4f}, Accuracy: {}/{} ({:.0f}%)'.format(\n",
    "    test_loss, correct, len(test_loader.dataset),\n",
    "    100. * correct / len(test_loader.dataset)))\n",
    "\n"
   ]
  },
  {
   "cell_type": "code",
   "execution_count": null,
   "metadata": {},
   "outputs": [],
   "source": [
    "files = np.load(\"./data/2feature/validation\")"
   ]
  },
  {
   "cell_type": "code",
   "execution_count": null,
   "metadata": {},
   "outputs": [],
   "source": [
    "files['embedding'], files['target']"
   ]
  },
  {
   "cell_type": "code",
   "execution_count": 2,
   "metadata": {},
   "outputs": [],
   "source": [
    "import numpy as np\n",
    "stars = np.load(\"data/2feature/yelp_curie_stars.npy\")\n",
    "embeddings = np.load(\"data/2feature/yelp_curie_text.npy\")"
   ]
  },
  {
   "cell_type": "code",
   "execution_count": 39,
   "metadata": {},
   "outputs": [
    {
     "name": "stdout",
     "output_type": "stream",
     "text": [
      "(7730, 4096) (7730,)\n",
      "(1932, 4096) (1932,)\n"
     ]
    }
   ],
   "source": [
    "import numpy as np\n",
    "# load numpy data from npz file\n",
    "validation = np.load(\"./data/2feature/validation_ada.npz\")\n",
    "train = np.load(\"./data/2feature/train_ada.npz\")\n",
    "t_embedding = train['embedding']\n",
    "t_target = train['target']\n",
    "v_embedding = validation['embedding']\n",
    "v_target = validation['target']\n",
    "print(t_embedding.shape, t_target.shape)\n",
    "print(v_embedding.shape, v_target.shape)"
   ]
  },
  {
   "cell_type": "code",
   "execution_count": 42,
   "metadata": {},
   "outputs": [
    {
     "name": "stdout",
     "output_type": "stream",
     "text": [
      "(7730, 2)\n",
      "(7730, 2)\n",
      "stars          int64\n",
      "embeddings    object\n",
      "dtype: object\n",
      "stars          int64\n",
      "embeddings    object\n",
      "dtype: object\n"
     ]
    }
   ],
   "source": [
    "pd.set_option('display.max_colwidth', 200)\n",
    "import pandas as pd\n",
    "\n",
    "df_train = pd.DataFrame({\"stars\":t_target, \"embeddings\":[x for x in t_embedding]})\n",
    "df_validation = pd.DataFrame({\"stars\":t_target, \"embeddings\":[x for x in t_embedding]})\n",
    "\n",
    "print(df_train.shape)\n",
    "print(df_validation.shape)\n",
    "print(df_train.dtypes)\n",
    "print(df_validation.dtypes)\n",
    "\n"
   ]
  },
  {
   "cell_type": "code",
   "execution_count": 43,
   "metadata": {},
   "outputs": [
    {
     "name": "stdout",
     "output_type": "stream",
     "text": [
      "(7730, 4097)\n",
      "(1932, 4097)\n",
      "c0       float64\n",
      "c1       float64\n",
      "c2       float64\n",
      "c3       float64\n",
      "c4       float64\n",
      "          ...   \n",
      "c4092    float64\n",
      "c4093    float64\n",
      "c4094    float64\n",
      "c4095    float64\n",
      "stars      int64\n",
      "Length: 4097, dtype: object\n",
      "c0       float64\n",
      "c1       float64\n",
      "c2       float64\n",
      "c3       float64\n",
      "c4       float64\n",
      "          ...   \n",
      "c4092    float64\n",
      "c4093    float64\n",
      "c4094    float64\n",
      "c4095    float64\n",
      "stars      int64\n",
      "Length: 4097, dtype: object\n"
     ]
    },
    {
     "data": {
      "text/html": [
       "<div>\n",
       "<style scoped>\n",
       "    .dataframe tbody tr th:only-of-type {\n",
       "        vertical-align: middle;\n",
       "    }\n",
       "\n",
       "    .dataframe tbody tr th {\n",
       "        vertical-align: top;\n",
       "    }\n",
       "\n",
       "    .dataframe thead th {\n",
       "        text-align: right;\n",
       "    }\n",
       "</style>\n",
       "<table border=\"1\" class=\"dataframe\">\n",
       "  <thead>\n",
       "    <tr style=\"text-align: right;\">\n",
       "      <th></th>\n",
       "      <th>c0</th>\n",
       "      <th>c1</th>\n",
       "      <th>c2</th>\n",
       "      <th>c3</th>\n",
       "      <th>c4</th>\n",
       "      <th>c5</th>\n",
       "      <th>c6</th>\n",
       "      <th>c7</th>\n",
       "      <th>c8</th>\n",
       "      <th>c9</th>\n",
       "      <th>...</th>\n",
       "      <th>c4087</th>\n",
       "      <th>c4088</th>\n",
       "      <th>c4089</th>\n",
       "      <th>c4090</th>\n",
       "      <th>c4091</th>\n",
       "      <th>c4092</th>\n",
       "      <th>c4093</th>\n",
       "      <th>c4094</th>\n",
       "      <th>c4095</th>\n",
       "      <th>stars</th>\n",
       "    </tr>\n",
       "  </thead>\n",
       "  <tbody>\n",
       "    <tr>\n",
       "      <th>0</th>\n",
       "      <td>-0.009544</td>\n",
       "      <td>-0.004455</td>\n",
       "      <td>-0.006378</td>\n",
       "      <td>0.009879</td>\n",
       "      <td>-0.012505</td>\n",
       "      <td>0.018725</td>\n",
       "      <td>0.004337</td>\n",
       "      <td>-0.004197</td>\n",
       "      <td>0.011248</td>\n",
       "      <td>-0.012142</td>\n",
       "      <td>...</td>\n",
       "      <td>-0.024358</td>\n",
       "      <td>0.004847</td>\n",
       "      <td>0.007724</td>\n",
       "      <td>-0.010680</td>\n",
       "      <td>0.001671</td>\n",
       "      <td>-0.008576</td>\n",
       "      <td>0.007673</td>\n",
       "      <td>0.000609</td>\n",
       "      <td>0.010494</td>\n",
       "      <td>4</td>\n",
       "    </tr>\n",
       "    <tr>\n",
       "      <th>1</th>\n",
       "      <td>-0.005431</td>\n",
       "      <td>0.010515</td>\n",
       "      <td>-0.014673</td>\n",
       "      <td>0.002872</td>\n",
       "      <td>-0.018325</td>\n",
       "      <td>0.003439</td>\n",
       "      <td>0.000895</td>\n",
       "      <td>-0.003132</td>\n",
       "      <td>0.000421</td>\n",
       "      <td>-0.016349</td>\n",
       "      <td>...</td>\n",
       "      <td>-0.017454</td>\n",
       "      <td>0.000782</td>\n",
       "      <td>0.025020</td>\n",
       "      <td>-0.001185</td>\n",
       "      <td>0.002793</td>\n",
       "      <td>-0.030545</td>\n",
       "      <td>-0.000150</td>\n",
       "      <td>0.006077</td>\n",
       "      <td>0.021668</td>\n",
       "      <td>3</td>\n",
       "    </tr>\n",
       "    <tr>\n",
       "      <th>2</th>\n",
       "      <td>-0.014215</td>\n",
       "      <td>0.006432</td>\n",
       "      <td>-0.007576</td>\n",
       "      <td>0.009017</td>\n",
       "      <td>-0.018202</td>\n",
       "      <td>-0.005967</td>\n",
       "      <td>-0.007248</td>\n",
       "      <td>-0.000912</td>\n",
       "      <td>0.023926</td>\n",
       "      <td>0.015153</td>\n",
       "      <td>...</td>\n",
       "      <td>-0.007328</td>\n",
       "      <td>-0.004717</td>\n",
       "      <td>0.018024</td>\n",
       "      <td>0.018024</td>\n",
       "      <td>-0.012047</td>\n",
       "      <td>-0.024770</td>\n",
       "      <td>-0.014074</td>\n",
       "      <td>0.021055</td>\n",
       "      <td>0.020004</td>\n",
       "      <td>4</td>\n",
       "    </tr>\n",
       "    <tr>\n",
       "      <th>3</th>\n",
       "      <td>0.002170</td>\n",
       "      <td>0.005094</td>\n",
       "      <td>-0.004394</td>\n",
       "      <td>0.022045</td>\n",
       "      <td>-0.018361</td>\n",
       "      <td>-0.008075</td>\n",
       "      <td>0.000461</td>\n",
       "      <td>0.009127</td>\n",
       "      <td>-0.010421</td>\n",
       "      <td>0.009888</td>\n",
       "      <td>...</td>\n",
       "      <td>-0.012002</td>\n",
       "      <td>-0.012438</td>\n",
       "      <td>0.010489</td>\n",
       "      <td>-0.010450</td>\n",
       "      <td>0.010829</td>\n",
       "      <td>-0.019447</td>\n",
       "      <td>-0.020959</td>\n",
       "      <td>0.009908</td>\n",
       "      <td>0.004156</td>\n",
       "      <td>4</td>\n",
       "    </tr>\n",
       "    <tr>\n",
       "      <th>4</th>\n",
       "      <td>0.009935</td>\n",
       "      <td>0.016374</td>\n",
       "      <td>-0.010495</td>\n",
       "      <td>0.003238</td>\n",
       "      <td>-0.022823</td>\n",
       "      <td>0.010131</td>\n",
       "      <td>-0.024673</td>\n",
       "      <td>0.002537</td>\n",
       "      <td>0.005570</td>\n",
       "      <td>0.021159</td>\n",
       "      <td>...</td>\n",
       "      <td>-0.015449</td>\n",
       "      <td>0.002551</td>\n",
       "      <td>0.021421</td>\n",
       "      <td>0.002554</td>\n",
       "      <td>0.003285</td>\n",
       "      <td>-0.006654</td>\n",
       "      <td>0.005664</td>\n",
       "      <td>0.004145</td>\n",
       "      <td>0.003734</td>\n",
       "      <td>4</td>\n",
       "    </tr>\n",
       "  </tbody>\n",
       "</table>\n",
       "<p>5 rows × 4097 columns</p>\n",
       "</div>"
      ],
      "text/plain": [
       "         c0        c1        c2        c3        c4        c5        c6  \\\n",
       "0 -0.009544 -0.004455 -0.006378  0.009879 -0.012505  0.018725  0.004337   \n",
       "1 -0.005431  0.010515 -0.014673  0.002872 -0.018325  0.003439  0.000895   \n",
       "2 -0.014215  0.006432 -0.007576  0.009017 -0.018202 -0.005967 -0.007248   \n",
       "3  0.002170  0.005094 -0.004394  0.022045 -0.018361 -0.008075  0.000461   \n",
       "4  0.009935  0.016374 -0.010495  0.003238 -0.022823  0.010131 -0.024673   \n",
       "\n",
       "         c7        c8        c9  ...     c4087     c4088     c4089     c4090  \\\n",
       "0 -0.004197  0.011248 -0.012142  ... -0.024358  0.004847  0.007724 -0.010680   \n",
       "1 -0.003132  0.000421 -0.016349  ... -0.017454  0.000782  0.025020 -0.001185   \n",
       "2 -0.000912  0.023926  0.015153  ... -0.007328 -0.004717  0.018024  0.018024   \n",
       "3  0.009127 -0.010421  0.009888  ... -0.012002 -0.012438  0.010489 -0.010450   \n",
       "4  0.002537  0.005570  0.021159  ... -0.015449  0.002551  0.021421  0.002554   \n",
       "\n",
       "      c4091     c4092     c4093     c4094     c4095  stars  \n",
       "0  0.001671 -0.008576  0.007673  0.000609  0.010494      4  \n",
       "1  0.002793 -0.030545 -0.000150  0.006077  0.021668      3  \n",
       "2 -0.012047 -0.024770 -0.014074  0.021055  0.020004      4  \n",
       "3  0.010829 -0.019447 -0.020959  0.009908  0.004156      4  \n",
       "4  0.003285 -0.006654  0.005664  0.004145  0.003734      4  \n",
       "\n",
       "[5 rows x 4097 columns]"
      ]
     },
     "execution_count": 43,
     "metadata": {},
     "output_type": "execute_result"
    }
   ],
   "source": [
    "# expand the array of embeddings into a dataframe\n",
    "df_train = pd.DataFrame(t_embedding)\n",
    "# make sure column names are strings\n",
    "df_train.columns = [\"c\"+v for v in df_train.columns.astype(str)]\n",
    "\n",
    "df_validation = pd.DataFrame(v_embedding)\n",
    "# make sure column names are strings\n",
    "df_validation.columns = [\"c\"+v for v in df_validation.columns.astype(str)]\n",
    "\n",
    "df_train['stars'] = t_target\n",
    "df_validation['stars'] = v_target\n",
    "\n",
    "print(df_train.shape)\n",
    "print(df_validation.shape)\n",
    "print(df_train.dtypes)\n",
    "print(df_validation.dtypes)\n",
    "\n",
    "df_train.head()"
   ]
  },
  {
   "cell_type": "code",
   "execution_count": 45,
   "metadata": {},
   "outputs": [],
   "source": [
    "df_train.to_parquet(\"data/2feature/yelp_curie/train/train_curie.parquet\")\n",
    "df_validation.to_parquet(\"data/2feature/yelp_curie/validation/validation_curie.parquet\")"
   ]
  },
  {
   "cell_type": "code",
   "execution_count": null,
   "metadata": {},
   "outputs": [],
   "source": [
    "#Note: The openai-python library support for Azure OpenAI is in preview.import os\n",
    "import openai\n",
    "openai.api_type = \"azure\"\n",
    "openai.api_base = \"https://aoai.openai.azure.com/\"\n",
    "openai.api_version = \"2022-06-01-preview\"\n",
    "openai.api_key = os.getenv(\"OPENAI_API_KEY\")\n",
    "\n",
    "text = \"The food was good, but the service was terrible.\"\n",
    "\n",
    "prompt=f\"Classify the following yelp review into 1 of the following categories: categories: [1, 2, 3, 4, 5]\\n\\nyelp review: {text} \\n\\nClassified category:\",\n",
    "\n",
    "response = openai.Completion.create(\n",
    "  engine=\"text-davinci-002\",\n",
    "  prompt=[prompt,prompt],\n",
    "  temperature=0,\n",
    "  max_tokens=60,\n",
    "  top_p=1,\n",
    "  frequency_penalty=0,\n",
    "  presence_penalty=0,\n",
    "  stop=None\n",
    ")\n",
    "\n",
    "response"
   ]
  },
  {
   "cell_type": "code",
   "execution_count": null,
   "metadata": {},
   "outputs": [],
   "source": []
  },
  {
   "cell_type": "code",
   "execution_count": null,
   "metadata": {},
   "outputs": [],
   "source": [
    "import openai\n",
    "from tqdm import tqdm\n",
    "def classify_yelp(texts):\n",
    "    prompts = []\n",
    "    for text in texts:\n",
    "      prompts.append(f\"Classify the following yelp review into 1 of the following categories: categories: [1, 2, 3, 4, 5]\\n\\nyelp review: {text} \\n\\nClassified category:\")\n",
    "\n",
    "    response = openai.Completion.create(\n",
    "      engine=\"text-davinci-002\",\n",
    "      prompt=prompts,\n",
    "      temperature=0,\n",
    "      max_tokens=60,\n",
    "      top_p=1,\n",
    "      frequency_penalty=0,\n",
    "      presence_penalty=0,\n",
    "      stop=None\n",
    "    )\n",
    "    results = [choice['text'].strip() for choice in response['choices']]\n",
    "    return results\n",
    "\n",
    "def classify_yelp_batch(texts, batch_size=20):\n",
    "    results = []\n",
    "    for i in tqdm(range(0, len(texts), batch_size)):\n",
    "        results.extend(classify_yelp(texts[i:i+batch_size]))\n",
    "    return results\n",
    "\n"
   ]
  },
  {
   "cell_type": "code",
   "execution_count": null,
   "metadata": {},
   "outputs": [],
   "source": [
    "\n",
    "df = pd.read_csv(\"data/1raw/yelp_test.csv\")\n",
    "df['stars'] = df['stars'].astype(str)\n",
    "\n",
    "results = classify_yelp_batch(df['text'].values)\n",
    "\n",
    "df['accurate'] = df['stars'] == results\n",
    "df.accurate.mean()"
   ]
  },
  {
   "cell_type": "code",
   "execution_count": null,
   "metadata": {},
   "outputs": [],
   "source": [
    "import evaluate\n",
    "f1 = evaluate.load(\"f1\")\n",
    "\n",
    "f1.compute(references=df['stars'], predictions=results, average='weighted')"
   ]
  },
  {
   "cell_type": "code",
   "execution_count": null,
   "metadata": {},
   "outputs": [],
   "source": [
    "def calculate_metrics(references, predictions):\n",
    "    f1 = evaluate.load(\"f1\").compute(references=references, predictions=predictions, average='weighted')\n",
    "    accuracy = evaluate.load(\"accuracy\").compute(references=references, predictions=predictions)\n",
    "    precision = evaluate.load(\"precision\").compute(references=references, predictions=predictions, average='weighted')\n",
    "    recall = evaluate.load(\"recall\").compute(references=references, predictions=predictions, average='weighted')\n",
    "    # merge the dicts\n",
    "    metrics = {**f1, **accuracy, **precision, **recall}\n",
    "    return metrics"
   ]
  },
  {
   "cell_type": "code",
   "execution_count": null,
   "metadata": {},
   "outputs": [],
   "source": [
    "# merge dicts\n",
    "\n"
   ]
  },
  {
   "cell_type": "code",
   "execution_count": null,
   "metadata": {},
   "outputs": [],
   "source": [
    "calculate_metrics(references=df['stars'], predictions=results)"
   ]
  },
  {
   "cell_type": "code",
   "execution_count": null,
   "metadata": {},
   "outputs": [],
   "source": [
    "\n",
    "\n"
   ]
  },
  {
   "cell_type": "code",
   "execution_count": null,
   "metadata": {},
   "outputs": [],
   "source": [
    "df"
   ]
  },
  {
   "cell_type": "code",
   "execution_count": null,
   "metadata": {},
   "outputs": [],
   "source": [
    "os.environ[\"MLFLOW_TRACKING_URI\"] = \"azureml://eastus2.api.azureml.ms/mlflow/v1.0/subscriptions/15ae9cb6-95c1-483d-a0e3-b1a1a3b06324/resourceGroups/ray/providers/Microsoft.MachineLearningServices/workspaces/ray\"\n",
    "sweep_run_id = \"HD_7e2c2145-561c-4b71-97ea-1f8241482661\" \n",
    "client = MlflowClient()\n",
    "sweep = client.get_run(sweep_run_id)\n",
    "sweep.data"
   ]
  },
  {
   "cell_type": "code",
   "execution_count": null,
   "metadata": {},
   "outputs": [],
   "source": [
    "mlflow_tracking_uri = \"azureml://eastus2.api.azureml.ms/mlflow/v1.0/subscriptions/15ae9cb6-95c1-483d-a0e3-b1a1a3b06324/resourceGroups/ray/providers/Microsoft.MachineLearningServices/workspaces/ray\"\n",
    "sweep_run_id = \"HD_7e2c2145-561c-4b71-97ea-1f8241482661\" \n",
    "from mlflow.tracking import MlflowClient\n",
    "\n",
    "client = MlflowClient(tracking_uri=mlflow_tracking_uri)\n"
   ]
  },
  {
   "cell_type": "code",
   "execution_count": null,
   "metadata": {},
   "outputs": [],
   "source": [
    "sweep_results = []\n",
    "sweep = client.get_run(sweep_run_id)\n",
    "for k, _ in sweep.data.tags.items():\n",
    "    if k.startswith(sweep_run_id):\n",
    "        print(k)\n",
    "        run = client.get_run(k)\n",
    "        sweep_results.append({**run.data.metrics, **run.data.params})\n"
   ]
  },
  {
   "cell_type": "code",
   "execution_count": null,
   "metadata": {},
   "outputs": [],
   "source": [
    "sweep_results_df = pd.DataFrame(sweep_results)\n",
    "sweep_results_df.to_csv(\"data/7sweep/sweep_results_new.csv\", index=False) "
   ]
  },
  {
   "cell_type": "code",
   "execution_count": null,
   "metadata": {},
   "outputs": [],
   "source": [
    "import pandas as pd\n",
    "sweep_results_df = pd.read_csv(\"data/7sweep/sweep_results.csv\")\n",
    "sweep_results_df['accuracy'] = sweep_results_df['classification/accuracy']\n",
    "sweep_results_df['f1_score'] = sweep_results_df['classification/weighted_f1_score']\n",
    "# find the best run by model\n",
    "best_runs = sweep_results_df.groupby(\"model\").apply(lambda x: x.nlargest(1, \"f1_score\"))\n",
    "best_runs[[ \"accuracy\",\"f1_score\"]]"
   ]
  },
  {
   "cell_type": "code",
   "execution_count": null,
   "metadata": {},
   "outputs": [],
   "source": [
    "import pandas as pd\n",
    "sweep_results_df = pd.read_csv(\"data/7sweep/sweep_results.csv\")\n",
    "sweep_results_df['accuracy'] = sweep_results_df['classification/accuracy']\n",
    "sweep_results_df['f1_score'] = sweep_results_df['classification/weighted_f1_score']\n",
    "# order by f1 score\n",
    "sweep_results_df = sweep_results_df.sort_values(\"f1_score\", ascending=False)\n",
    "sweep_results_df.head()"
   ]
  },
  {
   "cell_type": "code",
   "execution_count": 54,
   "metadata": {},
   "outputs": [
    {
     "data": {
      "image/png": "[encoded data removed]",
      "text/plain": [
       "<Figure size 640x480 with 1 Axes>"
      ]
     },
     "metadata": {},
     "output_type": "display_data"
    }
   ],
   "source": [
    "import pandas as pd\n",
    "\n",
    "df = pd.read_csv(\"data/7sweep/yelp_test_results.csv\")\n",
    "# sort df by model\n",
    "df = df.sort_values(by=['Model'])\n",
    "\n",
    "# plot data in a bar chart\n",
    "import seaborn as sns\n",
    "import matplotlib.pyplot as plt\n",
    "sns.set_theme(style=\"whitegrid\")\n",
    "ax = sns.barplot(x=\"Model\", y=\"F1 Score\", hue=\"Technique\", data=df)\n",
    "ax.set_title(\"Yelp Test Set F1 Score\")\n",
    "ax.set_xlabel(\"Model\")\n",
    "ax.set_ylabel(\"F1 Score\")\n",
    "# move legend\n",
    "plt.legend(bbox_to_anchor=(1.05, 1), loc=2, borderaxespad=0.)\n",
    "#save plot\n",
    "plt.savefig(\"images/yelp_test_f1.png\", bbox_inches='tight')\n",
    "\n"
   ]
  },
  {
   "cell_type": "code",
   "execution_count": 55,
   "metadata": {},
   "outputs": [
    {
     "name": "stdout",
     "output_type": "stream",
     "text": [
      "| Model   | Technique          |   Accuracy |   F1 Score | job                         |\n",
      "|:--------|:-------------------|-----------:|-----------:|:----------------------------|\n",
      "| ada     | fine-tune          |   0.5263   |   0.4855   | nan                         |\n",
      "| ada     | embedding + AutoML |   0.619535 |   0.612792 | musing_cart_wjzb12p2        |\n",
      "| ada     | zero shot          |   0.1095   |   0.0482   | nan                         |\n",
      "| ada     | few shot           |   0.4231   |   0.4068   | patient_ship_3dg6gh430b_89  |\n",
      "| babbage | fine-tune          |   0.6147   |   0.6042   | shy_picture_b0gpxgmn        |\n",
      "| curie   | zero shot          |   0.2751   |   0.251    | nan                         |\n",
      "| curie   | embedding + AutoML |   0.628976 |   0.624561 | stoic_screw_jw6bywsn        |\n",
      "| curie   | fine-tune          |   0.5376   |   0.5041   | nan                         |\n",
      "| curie   | few shot           |   0.5799   |   0.5768   | jolly_rhythm_cnryl9j3f0_83  |\n",
      "| davinci | zero shot          |   0.4763   |   0.481823 | careful_lime_ds0qyvgj4g_94  |\n",
      "| davinci | few shot           |   0.6992   |   0.6982   | placid_energy_hzkj1x77wl_85 |\n"
     ]
    }
   ],
   "source": [
    "job_template = \"[{job}](https://ml.azure.com/experiments/id/0a12bb58-a8c2-4215-b82b-5e6b57bbfa47/runs/{job}?wsid=/subscriptions/15ae9cb6-95c1-483d-a0e3-b1a1a3b06324/resourcegroups/ray/providers/Microsoft.MachineLearningServices/workspaces/ray&tid=72f988bf-86f1-41af-91ab-2d7cd011db47)\"\n",
    "# create a new column with the job link\n",
    "df.job = df.job.apply(lambda x: job_template.format(job=x))\n",
    "\n",
    "print(df.to_markdown(index=False))"
   ]
  },
  {
   "cell_type": "code",
   "execution_count": null,
   "metadata": {},
   "outputs": [],
   "source": [
    "# combine the above plots into one figure\n",
    "import matplotlib.pyplot as plt\n",
    "import seaborn as sns\n",
    "fig, axes = plt.subplots(nrows=2, ncols=2, figsize=(10, 10))\n",
    "sweep_results_df.plot.scatter(x='model', y='f1_score', ax=axes[0,0])\n",
    "\n",
    "sns.regplot(x='n_epochs', y='f1_score', data=sweep_results_df, ax=axes[0,1], scatter=True, lowess=True)\n",
    "sns.regplot(x='batch_size', y='f1_score', data=sweep_results_df, ax=axes[1,0], scatter=True, lowess=True)\n",
    "sns.regplot(x='learning_rate_multiplier', y='f1_score', ax=axes[1,1], data=sweep_results_df, scatter=True, lowess=True)\n",
    "plt.savefig('images/all_scatterplots.png', facecolor='white')\n"
   ]
  },
  {
   "cell_type": "code",
   "execution_count": null,
   "metadata": {},
   "outputs": [],
   "source": [
    "sweep_results_df.f1_score.describe()"
   ]
  },
  {
   "cell_type": "code",
   "execution_count": null,
   "metadata": {},
   "outputs": [],
   "source": [
    "import matplotlib.pyplot as plt\n",
    "df = sweep_results_df\n",
    "# plot histogram of f1_score and save to file\n",
    "df.f1_score.hist(bins=20)\n",
    "# add title and labels\n",
    "plt.title('Histogram of f1_score')\n",
    "plt.xlabel('f1_score')\n",
    "plt.ylabel('count')\n",
    "# save the plot to file f1_score.png\n",
    "plt.savefig('images/f1_score.png', facecolor='white')"
   ]
  },
  {
   "cell_type": "code",
   "execution_count": null,
   "metadata": {},
   "outputs": [],
   "source": [
    "import openai\n",
    "openai.api_key = os.environ.get(\"OPENAI_API_KEY\")\n",
    "openai.api_base = \"https://aoai.openai.azure.com/\"\n",
    "openai.api_type = 'azure'  \n",
    "openai.api_version = \"2022-06-01-preview\"\n",
    "deployments = openai.Deployment.list()\n",
    "print(deployments)"
   ]
  },
  {
   "cell_type": "code",
   "execution_count": null,
   "metadata": {},
   "outputs": [],
   "source": [
    "import pandas as pd\n",
    "df = pd.read_csv(\"data/6stats/model_stats.csv\")\n",
    "df"
   ]
  },
  {
   "cell_type": "code",
   "execution_count": null,
   "metadata": {},
   "outputs": [],
   "source": [
    "df[[\"test_f1\", \"test_accuracy\",\"classification/weighted_f1_score\", \"classification/accuracy\"]]"
   ]
  },
  {
   "cell_type": "code",
   "execution_count": null,
   "metadata": {},
   "outputs": [],
   "source": [
    "import openai\n",
    "did = \"deployment-c2d69251f246484a9a05a9e7a49ba091\"\n",
    "openai.api_key = os.environ['OPENAI_API_KEY']\n",
    "openai.api_base = \"https://aoai.openai.azure.com/\"\n",
    "openai.api_type = \"azure\"  \n",
    "openai.api_version = \"2022-06-01-preview\"\n",
    "\n",
    "openai.Deployment.delete(sid=did)"
   ]
  },
  {
   "cell_type": "code",
   "execution_count": null,
   "metadata": {},
   "outputs": [],
   "source": [
    "# create shell command to grep all lines starting with \"{'test_f1':\"\n",
    "\n",
    "# create shell command to grep all lines starting with \"{'test_f1':\"\n",
    "!grep -E \"{'test_f1':\" logs.txt > logs2.txt"
   ]
  },
  {
   "cell_type": "code",
   "execution_count": null,
   "metadata": {},
   "outputs": [],
   "source": [
    "import ast\n",
    "# read text file\n",
    "with open(\"logs2.txt\", \"r\") as f:\n",
    "    lines = f.readlines()\n",
    "\n",
    "data_array = [] \n",
    "for line in lines:\n",
    "    data_array.append(ast.literal_eval(line))\n",
    "\n",
    "df = pd.DataFrame(data_array)\n",
    "df"
   ]
  },
  {
   "cell_type": "code",
   "execution_count": null,
   "metadata": {},
   "outputs": [],
   "source": [
    "df = pd.read_csv(\"data/6stats/model_stats.csv\")\n",
    "df"
   ]
  },
  {
   "cell_type": "code",
   "execution_count": null,
   "metadata": {},
   "outputs": [],
   "source": [
    "df[\"diff_f1\"] = df[\"test_f1\"] - df[\"classification/weighted_f1_score\"]\n",
    "df[\"diff_accuracy\"] = df[\"test_accuracy\"] - df[\"classification/accuracy\"]\n",
    "df[[\"classification/accuracy\", \"test_accuracy\", \"diff_accuracy\", \"classification/weighted_f1_score\", \"test_f1\", \"diff_f1\"]]"
   ]
  },
  {
   "cell_type": "code",
   "execution_count": null,
   "metadata": {},
   "outputs": [],
   "source": [
    "# classification/accuracy vs. test_accuracy without regression line\n",
    "import matplotlib.pyplot as plt\n",
    "import seaborn as sns\n",
    "sns.set_theme(style=\"whitegrid\")\n",
    "ax = sns.scatterplot(x=\"classification/accuracy\", y=\"test_accuracy\", data=df)\n",
    "# add the same for f1_score\n",
    "ax = sns.scatterplot(x=\"classification/weighted_f1_score\", y=\"test_f1\", data=df)\n",
    "ax.set_title(\"Classification Accuracy/F1 vs. Test Accuracy/F1\")\n",
    "ax.set_xlabel(\"Accuracy/F1 from Fine-Tuning\")\n",
    "ax.set_ylabel(\"Accuracy/F1 from deployed model\")\n",
    "\n",
    "# add legend\n",
    "plt.legend(labels=['Accuracy', 'F1 Score'])\n",
    "\n",
    "# add identity line\n",
    "import numpy as np\n",
    "x = np.linspace(.3, .65, 100)\n",
    "y = x\n",
    "plt.plot(x, y, color='red', linestyle='--')\n",
    "\n",
    "#save plot\n",
    "plt.savefig(\"images/fine_tune_vs_deployed_model_metric.png\", bbox_inches='tight')\n"
   ]
  },
  {
   "cell_type": "code",
   "execution_count": null,
   "metadata": {},
   "outputs": [],
   "source": [
    "diffs = pd.melt(df[[\"diff_accuracy\", \"diff_f1\"]])\n",
    "\n",
    "# draw boxplot of both diff_accuracy and diff_f1\n",
    "import matplotlib.pyplot as plt\n",
    "import seaborn as sns\n",
    "sns.set_theme(style=\"whitegrid\")\n",
    "ax = sns.boxplot(y=\"value\", x=\"variable\", data=diffs)\n",
    "ax.set_title(\"Difference in Accuracy/F1 Score\")\n",
    "# add scatterplot of diff_accuracy\n",
    "ax = sns.scatterplot(x=\"classification/accuracy\", y=\"diff_accuracy\", data=df)\n",
    "# add boxplot of diff_f1 next to it\n",
    "ax = sns.scatterplot(x=\"classification/weighted_f1_score\", y=\"diff_f1\", data=df)\n",
    "# save the plot to file\n",
    "plt.savefig(\"images/diff_accuracy_f1.png\", bbox_inches='tight')\n"
   ]
  },
  {
   "cell_type": "code",
   "execution_count": null,
   "metadata": {},
   "outputs": [],
   "source": [
    "# plot the difference in accuracy and f1_score as a function of the f1_score and accuracy\n",
    "import matplotlib.pyplot as plt\n",
    "import seaborn as sns\n",
    "sns.set_theme(style=\"whitegrid\")\n",
    "ax = sns.scatterplot(x=\"classification/accuracy\", y=\"diff_accuracy\", data=df)\n",
    "# add the same for f1_score\n",
    "ax = sns.scatterplot(x=\"classification/weighted_f1_score\", y=\"diff_f1\", data=df)\n",
    "ax.set_title(\"Difference in Accuracy/F1 vs. Accuracy/F1\")\n",
    "ax.set_xlabel(\"Accuracy/F1 from Fine-Tuning\")\n",
    "ax.set_ylabel(\"Difference in Accuracy/F1 from deployed model\")\n",
    "# add regression line\n",
    "sns.regplot(x=\"classification/accuracy\", y=\"diff_accuracy\", data=df, scatter=False)\n",
    "\n",
    "# save plot\n",
    "plt.savefig(\"images/diff_accuracy_f1_vs_fine_tune_accuracy_f1.png\", bbox_inches='tight')\n"
   ]
  },
  {
   "cell_type": "code",
   "execution_count": null,
   "metadata": {},
   "outputs": [],
   "source": [
    "df = pd.read_csv(\"data/1raw/yelp_mini.csv\")\n",
    "model_input = pd.DataFrame({\"prompt\": df[\"text\"], \"completion\": df[\"stars\"]})\n",
    "model_input = model_input[:10]\n",
    "model_input"
   ]
  },
  {
   "cell_type": "code",
   "execution_count": null,
   "metadata": {},
   "outputs": [],
   "source": [
    "import openai, os, requests, json\n",
    "openai.api_key = os.environ['OPENAI_API_KEY']\n",
    "openai.api_base = \"https://aoai.openai.azure.com/\"\n",
    "openai.api_type = \"azure\"  \n",
    "openai.api_version = \"2022-06-01-preview\"\n",
    "\n",
    "BATCH_SIZE = 20\n",
    "api_version=\"2022-06-01-preview\" # hardcode for now\n",
    "deployment = \"best-model\"\n",
    "endpoint = \"https://aoai.openai.azure.com/\"\n",
    "api_key = os.environ[\"OPENAI_API_KEY\"]\n",
    "openai.api_key = api_key\n",
    "\n",
    "url = endpoint + \"openai/deployments/\" + deployment + \"/completions?api-version=\" + api_version\n",
    "print(f\"url: {url}\")\n",
    "\n",
    "payload = {\n",
    "    \"prompt\": list(model_input.prompt.values)\n",
    "}\n",
    "# ,\n",
    "#     \"max_tokens\": 5,\n",
    "#     \"temperature\": 0,\n",
    "#     \"top_p\": 0,\n",
    "#     \"frequency_penalty\": 0\n",
    "# }  \n",
    "\n",
    "\n",
    "print(f\"sending {len(model_input)} items to url {url}\")\n",
    "\n",
    "r = requests.post(url,\n",
    "    headers={\n",
    "        \"api-key\": api_key,\n",
    "        \"Content-Type\": \"application/json\"\n",
    "    },\n",
    "    json = payload\n",
    "    )\n",
    "data = r.json()\n"
   ]
  },
  {
   "cell_type": "code",
   "execution_count": null,
   "metadata": {},
   "outputs": [],
   "source": [
    "df = sweep_results_df[[\"model\", \"n_epochs\", \"batch_size\", \"learning_rate_multiplier\", \"f1_score\"]]\n",
    "df = df.sort_values(by=\"f1_score\", ascending=False)\n",
    "# encode model as a categorical variable\n",
    "categories = np.sort(df.model.unique())\n",
    "df[\"model\"] = df[\"model\"] = pd.Categorical(df.model, \n",
    "                                            categories=categories)\n",
    "df[\"model\"] = df[\"model\"].cat.codes\n"
   ]
  },
  {
   "cell_type": "code",
   "execution_count": null,
   "metadata": {},
   "outputs": [],
   "source": [
    "# build model that predicts f1_score from hyperparameters, then find out which hyperparameters are most important\n",
    "import numpy as np\n",
    "from sklearn.ensemble import RandomForestRegressor\n",
    "from sklearn.model_selection import train_test_split\n",
    "from sklearn.metrics import mean_squared_error\n",
    "from sklearn.inspection import permutation_importance\n",
    "\n",
    "# split data into train and test\n",
    "train, test = train_test_split(df, test_size=0.2, random_state=42)\n",
    "\n",
    "# build model\n",
    "model = RandomForestRegressor(n_estimators=100, random_state=42)\n",
    "model.fit(train.drop(columns=[\"f1_score\"]), train[\"f1_score\"])\n",
    "\n",
    "# predict on test set\n",
    "y_pred = model.predict(test.drop(columns=[\"f1_score\"]))\n",
    "y_true = test[\"f1_score\"]\n",
    "print(f\"mean squared error: {mean_squared_error(y_true, y_pred)}\")\n",
    "\n",
    "# get feature importances\n",
    "importances = model.feature_importances_\n",
    "std = np.std([tree.feature_importances_ for tree in model.estimators_],\n",
    "                axis=0)\n",
    "indices = np.argsort(importances)[::-1]\n",
    "\n",
    "# Print the feature ranking\n",
    "print(\"Feature ranking:\")\n",
    "for f in range(train.drop(columns=[\"f1_score\"]).shape[1]):\n",
    "    print(f\"{f + 1}. feature {train.drop(columns=['f1_score']).columns[indices[f]]} ({importances[indices[f]]})\")\n",
    "\n",
    "# Plot the feature importances of the forest\n",
    "import matplotlib.pyplot as plt\n",
    "plt.figure()\n",
    "plt.title(\"Feature importances\")\n",
    "plt.bar(range(train.drop(columns=[\"f1_score\"]).shape[1]), importances[indices],\n",
    "        color=\"r\", yerr=std[indices], align=\"center\")\n",
    "plt.xticks(range(train.drop(columns=[\"f1_score\"]).shape[1]), train.drop(columns=[\"f1_score\"]).columns[indices], rotation=90)\n",
    "plt.xlim([-1, train.drop(columns=[\"f1_score\"]).shape[1]])\n",
    "plt.show()\n",
    "\n",
    "\n"
   ]
  },
  {
   "cell_type": "code",
   "execution_count": null,
   "metadata": {},
   "outputs": [],
   "source": [
    "df = pd.read_json(\"data/1raw/yelp_validation.jsonl\", lines=True, orient=\"records\")\n",
    "df[\"text\"] = df.prompt.apply(lambda x: x[:-7]) \n",
    "df[\"stars\"] = df.completion\n",
    "df[[\"text\",\"stars\"]].to_csv(\"data/1raw/yelp_validation.csv\", index=False)"
   ]
  },
  {
   "cell_type": "code",
   "execution_count": null,
   "metadata": {},
   "outputs": [],
   "source": [
    "import mlflow\n",
    "import os\n",
    "os.environ[\"MLFLOW_TRACKING_URI\"] = \"azureml://eastus2.api.azureml.ms/mlflow/v1.0/subscriptions/15ae9cb6-95c1-483d-a0e3-b1a1a3b06324/resourceGroups/ray/providers/Microsoft.MachineLearningServices/workspaces/ray\"\n",
    "client = mlflow.tracking.MlflowClient()"
   ]
  },
  {
   "cell_type": "code",
   "execution_count": null,
   "metadata": {},
   "outputs": [],
   "source": [
    "# command job run from CLI\n",
    "command_job = client.get_run(\"khaki_rain_h73f692hgq\")\n",
    "print(command_job.data.tags[\"mlflow.runName\"])\n",
    "print(command_job.info.run_id)\n",
    "print(command_job.info.run_name)\n",
    "print(command_job.info.run_uuid)\n"
   ]
  },
  {
   "cell_type": "code",
   "execution_count": null,
   "metadata": {},
   "outputs": [],
   "source": [
    "sweep_job_in_pipeline = client.get_run(\"HD_c757d6eb-5412-4644-a235-a0e6ed368884\")\n",
    "\n",
    "print(sweep_job_in_pipeline.data.tags[\"mlflow.runName\"])\n",
    "print(sweep_job_in_pipeline.info.run_id)\n",
    "print(sweep_job_in_pipeline.info.run_name)\n",
    "print(sweep_job_in_pipeline.info.run_uuid)"
   ]
  },
  {
   "cell_type": "code",
   "execution_count": null,
   "metadata": {},
   "outputs": [],
   "source": [
    "\n",
    "sweep_job_child = client.get_run(\"HD_c757d6eb-5412-4644-a235-a0e6ed368884_15\")\n",
    "\n",
    "print(sweep_job_child.data.tags[\"mlflow.runName\"])\n",
    "print(sweep_job_child.info.run_id)\n",
    "print(sweep_job_child.info.run_name)\n",
    "print(sweep_job_child.info.run_uuid)\n",
    "\n"
   ]
  },
  {
   "cell_type": "code",
   "execution_count": null,
   "metadata": {},
   "outputs": [],
   "source": [
    "parent_run = \"HD_c757d6eb-5412-4644-a235-a0e6ed368884\"\n",
    "# get all children of parent_run\n",
    "children = client.search_runs(experiment_ids=[], filter_string=f\"tags.mlflow.parentRunId = '{parent_run}'\")\n",
    "\n",
    "for child in children:\n",
    "    print(child.info.run_uuid)\n",
    "    #print(child.data.metrics)\n",
    "\n",
    "child"
   ]
  },
  {
   "cell_type": "code",
   "execution_count": null,
   "metadata": {},
   "outputs": [],
   "source": [
    "client = mlflow.tracking.MlflowClient(tracking_uri=\"azureml://eastus2.api.azureml.ms/mlflow/v1.0/subscriptions/15ae9cb6-95c1-483d-a0e3-b1a1a3b06324/resourceGroups/ray/providers/Microsoft.MachineLearningServices/workspaces/ray\")\n",
    "experiment_id = client.get_experiment_by_name(\"openai\").experiment_id\n",
    "\n",
    "children = client.search_runs(experiment_ids=[experiment_id])\n",
    "\n",
    "for child in children:\n",
    "    print(child.info.run_uuid)\n",
    "\n",
    "\n",
    "\n"
   ]
  },
  {
   "cell_type": "code",
   "execution_count": null,
   "metadata": {},
   "outputs": [],
   "source": [
    "client = mlflow.tracking.MlflowClient(tracking_uri=\"azureml://eastus2.api.azureml.ms/mlflow/v1.0/subscriptions/15ae9cb6-95c1-483d-a0e3-b1a1a3b06324/resourceGroups/ray/providers/Microsoft.MachineLearningServices/workspaces/ray\")\n",
    "runs = client.search_runs(experiment_ids=[])\n",
    "for run in runs:\n",
    "    print(run.info.run_uuid)\n"
   ]
  },
  {
   "cell_type": "code",
   "execution_count": null,
   "metadata": {},
   "outputs": [],
   "source": [
    "import pandas as pd\n",
    "df = pd.read_csv(\"data/1raw/yelp_small.csv\")\n",
    "df= df[[\"text\", \"stars\"]]\n",
    "# pick the first 50 rows\n",
    "df = df.iloc[:50]\n",
    "df.to_json(\"data/1raw/yelp_small.jsonl\", orient=\"records\", lines=True)"
   ]
  },
  {
   "cell_type": "code",
   "execution_count": null,
   "metadata": {},
   "outputs": [],
   "source": [
    "import pandas as pd\n",
    "prompts = pd.read_csv(\"data/1prompts/prompts3.csv\").prompt.values\n",
    "prompts[0]"
   ]
  },
  {
   "cell_type": "code",
   "execution_count": null,
   "metadata": {},
   "outputs": [],
   "source": [
    "print(prompts[2])"
   ]
  },
  {
   "cell_type": "code",
   "execution_count": null,
   "metadata": {},
   "outputs": [],
   "source": [
    "from mlflow.tracking import MlflowClient\n",
    "def load_metrics_from_sweep(sweep_id, metrics, params):\n",
    "    mlflow_tracking_uri = \"azureml://eastus2.api.azureml.ms/mlflow/v1.0/subscriptions/15ae9cb6-95c1-483d-a0e3-b1a1a3b06324/resourceGroups/ray/providers/Microsoft.MachineLearningServices/workspaces/ray\"\n",
    "    client = MlflowClient(tracking_uri=mlflow_tracking_uri)\n",
    "    children = client.search_runs(experiment_ids=[], filter_string=f\"tags.mlflow.parentRunId = '{sweep_id}'\")\n",
    "    results = []\n",
    "    for child in children:\n",
    "        try:\n",
    "            results.append({ metric: child.data.metrics[metric] for metric in metrics})\n",
    "            results[-1].update({ param: child.data.params[param] for param in params})\n",
    "            results[-1].update({ \"run_id\": child.info.run_uuid})\n",
    "            if child.info.run_uuid == \"placid_energy_hzkj1x77wl_85\":\n",
    "                print(results[-1])\n",
    "        except KeyError:\n",
    "            pass\n",
    "    return pd.DataFrame(results)\n",
    "\n"
   ]
  },
  {
   "cell_type": "code",
   "execution_count": null,
   "metadata": {},
   "outputs": [],
   "source": [
    "df1 = load_metrics_from_sweep(\"strong_tree_3w05fl03gg\", [\"f1\"], [\"examples_number\"])\n",
    "df2 = load_metrics_from_sweep(\"salmon_peach_4n72lj3s4x\", [\"f1\"], [\"examples_number\"])\n"
   ]
  },
  {
   "cell_type": "code",
   "execution_count": null,
   "metadata": {},
   "outputs": [],
   "source": [
    "df3 = load_metrics_from_sweep(\"placid_energy_hzkj1x77wl\", [\"f1\"], [\"examples_number\"])"
   ]
  },
  {
   "cell_type": "code",
   "execution_count": null,
   "metadata": {},
   "outputs": [],
   "source": [
    "# find run with highest f1 for each examples_number\n",
    "# merge the two dataframes\n",
    "#dfx = pd.concat([df1, df2, df3])\n",
    "dfx = df3\n",
    "df = dfx.sort_values(\"f1\", ascending=False).drop_duplicates(\"examples_number\")\n",
    "df"
   ]
  },
  {
   "cell_type": "code",
   "execution_count": null,
   "metadata": {},
   "outputs": [],
   "source": [
    "# find the top 3 f1 scores by example_number\n",
    "df = dfx.sort_values(\"f1\", ascending=False).groupby(\"examples_number\").head(3)\n",
    "df = df.sort_values(\"examples_number\")\n",
    "# # filter for examples_number == 1\n",
    "# df = df[df.examples_number == 1]\n",
    "# df.head(3)\n",
    "df"
   ]
  },
  {
   "cell_type": "code",
   "execution_count": null,
   "metadata": {},
   "outputs": [],
   "source": [
    "# find run with lowest f1 for each examples_number\n",
    "df = dfx.sort_values(\"f1\", ascending=True).drop_duplicates(\"examples_number\")\n",
    "df"
   ]
  },
  {
   "cell_type": "code",
   "execution_count": null,
   "metadata": {},
   "outputs": [],
   "source": [
    "0.696633-0.625734"
   ]
  },
  {
   "cell_type": "code",
   "execution_count": null,
   "metadata": {},
   "outputs": [],
   "source": [
    "# merge the two dataframes\n",
    "df = pd.concat([df1, df2, df3])\n",
    "\n",
    "df.examples_number = df.examples_number.astype(int)\n",
    "df = df.sort_values(\"f1\", ascending=False)\n",
    "\n",
    "# scatterplot examples_number vs f1\n",
    "import matplotlib.pyplot as plt\n",
    "import seaborn as sns\n",
    "sns.set_theme(style=\"whitegrid\")\n",
    "ax = sns.scatterplot(x=\"examples_number\", y=\"f1\", data=df, s=15)\n",
    "# scatterplot with smaller dots\n",
    "# ax = sns.scatterplot(x=\"examples_number\", y=\"f1\", data=df, s=10)\n",
    "\n",
    "ax.set_title(\"F1 vs the number of examples in the prompt\")\n",
    "ax.set_xlabel(\"examples_number\")\n",
    "ax.set_ylabel(\"f1\")\n",
    "# sns.regplot(x=\"examples_number\", y=\"f1\", data=df, scatter=False, color=\".2\", lowess=True)\n",
    "# for i, row in df.groupby(\"examples_number\").mean().iterrows():\n",
    "#     ax.text(i+0.1, row.f1, f\"{row.f1:.3f}\", horizontalalignment='left', size='small', color='grey', weight='semibold')\n",
    "#     ax.scatter(i, row.f1, marker=\"D\", color=\"black\", s=10)\n",
    "plt.savefig(\"images/few_shot_examples_vs_f1.png\", bbox_inches='tight')"
   ]
  },
  {
   "cell_type": "code",
   "execution_count": null,
   "metadata": {},
   "outputs": [],
   "source": [
    "# find if the distributions for the different examples_number are stat sig different\n",
    "from scipy.stats import ttest_ind\n",
    "import numpy as np\n",
    "example_numbers = df.examples_number.unique()\n",
    "example_numbers.sort()\n",
    "p_values = np.empty((len(example_numbers),len(example_numbers)))\n",
    "for i in example_numbers:\n",
    "    for j in example_numbers:\n",
    "        t, p = ttest_ind(df[df.examples_number == i].f1, df[df.examples_number == j].f1)\n",
    "        #print(f\"ttest for examples_number == {i} vs examples_number == {j}: t={t:.3f}, p={p:.3f}\")\n",
    "        # find index of i in examples_numbers\n",
    "        i_index = np.where(example_numbers == i)[0][0]\n",
    "        j_index = np.where(example_numbers == j)[0][0]\n",
    "        p_values[i_index,j_index] = p\n",
    "\n",
    "# label the rows and columns\n",
    "\n",
    "print(p_values)\n",
    "\n",
    "pv_df = pd.DataFrame(p_values, index=example_numbers, columns=example_numbers)\n",
    "\n",
    "print(pv_df.to_markdown())\n",
    "\n",
    "\n",
    "\n"
   ]
  },
  {
   "cell_type": "code",
   "execution_count": null,
   "metadata": {},
   "outputs": [],
   "source": [
    "#df = load_metrics_from_sweep(\"kind_lion_r4mdz5pnrt\", [\"f1\"], [\"temperature\"])\n",
    "#df.temperature = df.temperature.astype(float)\n",
    "\n",
    "import matplotlib.pyplot as plt\n",
    "import seaborn as sns\n",
    "sns.set_theme(style=\"whitegrid\")\n",
    "ax = sns.scatterplot(x=\"temperature\", y=\"f1\", data=df)\n",
    "ax.set_title(\"F1 score variance increases with Temperature\")\n",
    "ax.set_xlabel(\"Temperature\")\n",
    "ax.set_ylabel(\"f1\")\n",
    "# add regression line\n",
    "#sns.regplot(x=\"temperature\", y=\"f1\", data=df, scatter=False)\n",
    "# add loess line\n",
    "#sns.regplot(x=\"temperature\", y=\"f1\", data=df, scatter=False, lowess=True)\n",
    "# label average f1 for each temperature connected by a line\n",
    "for i, row in df.groupby(\"temperature\").mean().iterrows():\n",
    "    ax.text(i+0.01, row.f1, f\"{row.f1:.3f}\", horizontalalignment='left', size='small', color='grey', weight='semibold')\n",
    "    ax.scatter(i, row.f1, marker=\"D\", color=\"black\", s=10)\n",
    "\n",
    "\n",
    "\n",
    "\n",
    "plt.savefig(\"images/zero_shot_temperature_vs_f1.png\", bbox_inches='tight')\n",
    "\n"
   ]
  },
  {
   "cell_type": "code",
   "execution_count": null,
   "metadata": {},
   "outputs": [],
   "source": [
    "for i, row  in df.groupby(\"temperature\").mean().iterrows():\n",
    "    print(row.value(), row.f1)\n",
    "\n",
    "row"
   ]
  },
  {
   "cell_type": "code",
   "execution_count": null,
   "metadata": {},
   "outputs": [],
   "source": [
    "row.values[0]"
   ]
  },
  {
   "cell_type": "code",
   "execution_count": null,
   "metadata": {},
   "outputs": [],
   "source": [
    "client = MlflowClient(tracking_uri=mlflow_tracking_uri)\n",
    "children2 = client.search_runs(experiment_ids=[], \n",
    "                              filter_string=f\"tags.mlflow.parentRunId = 'kind_lion_r4mdz5pnrt'\", \n",
    "                              order_by=[\"info.start_time ASC\"])\n",
    "len(children2)"
   ]
  },
  {
   "cell_type": "code",
   "execution_count": null,
   "metadata": {},
   "outputs": [],
   "source": [
    "# merge children1 and children2\n",
    "children = children1 + children2\n",
    "len(children)\n",
    "\n"
   ]
  },
  {
   "cell_type": "code",
   "execution_count": null,
   "metadata": {},
   "outputs": [],
   "source": [
    "metrics = ['f1']\n",
    "params = ['temperature']\n",
    "results = []\n",
    "for child in children:\n",
    "    try:\n",
    "        results.append({ metric: child.data.metrics[metric] for metric in metrics})\n",
    "        results[-1].update({ param: child.data.params[param] for param in params})\n",
    "    except KeyError:\n",
    "        pass\n",
    "df = pd.DataFrame(results)"
   ]
  },
  {
   "cell_type": "code",
   "execution_count": null,
   "metadata": {},
   "outputs": [],
   "source": [
    "# convert temperature to float\n",
    "df.temperature = df.temperature.astype(float)\n",
    "\n",
    "# remove duplicates from df\n",
    "df = df.drop_duplicates(subset=['f1'], keep='first')"
   ]
  },
  {
   "cell_type": "code",
   "execution_count": null,
   "metadata": {},
   "outputs": [],
   "source": [
    "pr = pd.read_csv(\"data/1prompts/few_shot_prompts.csv\")\n",
    "pr"
   ]
  },
  {
   "cell_type": "code",
   "execution_count": null,
   "metadata": {},
   "outputs": [],
   "source": [
    "reviews.stars.hist()"
   ]
  },
  {
   "cell_type": "code",
   "execution_count": null,
   "metadata": {},
   "outputs": [],
   "source": [
    "examples = [\n",
    "  {\n",
    "    \"n\": 1,\n",
    "    \"stars\": \"2\",\n",
    "    \"review\": \"I was really disappointed with the food. The service was good, but the food was not good at all. I would not recommend this place to anyone.\"\n",
    "  },\n",
    "  {\n",
    "    \"n\": 2,\n",
    "    \"stars\": \"5\",\n",
    "    \"review\": \"I love this place. The food is amazing and the service is great. I would recommend this place to anyone.\"\n",
    "  },\n",
    "  {\n",
    "    \"n\": 3,\n",
    "    \"stars\": \"1\",\n",
    "    \"review\": \"I was really disappointed with the food. The service was good, but the food was not good at all. I would not recommend this place to anyone.\"\n",
    "  },\n",
    "  {\n",
    "    \"n\": 4,\n",
    "    \"stars\": \"3\",\n",
    "    \"review\": \"The food was mediocre. The service was good, but the food was not good at all. I would not recommend this place to anyone.\"\n",
    "  }   \n",
    "]"
   ]
  },
  {
   "cell_type": "code",
   "execution_count": null,
   "metadata": {},
   "outputs": [],
   "source": [
    "pr = pd.read_csv(\"data/1prompts/few_shot_prompts.csv\")\n",
    "template=pr.template[0]\n",
    "prefix=pr.prefix[0]\n",
    "suffix=pr.suffix[0]\n"
   ]
  },
  {
   "cell_type": "code",
   "execution_count": null,
   "metadata": {},
   "outputs": [],
   "source": [
    "from langchain import PromptTemplate, FewShotPromptTemplate\n",
    "\n",
    "example_prompt = PromptTemplate(input_variables=[\"n\", \"review\", \"stars\"], template=template)\n",
    "\n",
    "print(example_prompt.format(**examples[0]))"
   ]
  },
  {
   "cell_type": "code",
   "execution_count": null,
   "metadata": {},
   "outputs": [],
   "source": [
    "prompt = FewShotPromptTemplate(\n",
    "    prefix=prefix,\n",
    "    examples=examples, \n",
    "    example_prompt=example_prompt, \n",
    "    suffix=suffix, \n",
    "    input_variables=[\"text\"]\n",
    ")\n",
    "\n",
    "print(prompt.format(text=\"Don't go there\"))"
   ]
  },
  {
   "cell_type": "code",
   "execution_count": null,
   "metadata": {},
   "outputs": [],
   "source": [
    "examples_df = pd.read_csv(\"data/1raw/yelp_small.csv\")\n",
    "examples_df.sample(1, random_state=43)"
   ]
  },
  {
   "cell_type": "code",
   "execution_count": null,
   "metadata": {},
   "outputs": [],
   "source": [
    "def get_examples(examples_file, examples_number, seed, prompt_column, completion_column):\n",
    "    examples_df = pd.read_csv(examples_file)\n",
    "    \n",
    "    examples = []\n",
    "    for i in range(examples_number):\n",
    "        stars = i%5 + 1\n",
    "        while True:\n",
    "            example = examples_df.sample(n=examples_number, ignore_index=True, random_state=seed).iloc[0]\n",
    "            seed = seed+1\n",
    "            if example[completion_column] == stars:\n",
    "                break\n",
    "        examples.append({\"n\": i+1, \"review\": example[prompt_column], \"stars\": example[completion_column]})\n",
    "    return examples\n",
    "\n",
    "\n",
    "get_examples(\"data/1raw/yelp_small.csv\", 4, 43, \"text\", \"stars\")"
   ]
  },
  {
   "cell_type": "code",
   "execution_count": null,
   "metadata": {},
   "outputs": [],
   "source": [
    "def get_examples(examples_file, examples_number, seed, prompt_column, completion_column):\n",
    "    examples_df = pd.read_csv(examples_file)\n",
    "    \n",
    "    examples = []\n",
    "    bucket = set()\n",
    "    for i in range(examples_number):\n",
    "        while True:\n",
    "            example = examples_df.sample(n=examples_number, ignore_index=True, random_state=seed).iloc[0]\n",
    "            seed = seed+1\n",
    "            if not example[completion_column] in bucket:\n",
    "                bucket.add(example[completion_column])\n",
    "                break\n",
    "        examples.append({\"n\": i+1, \"review\": example[prompt_column], \"stars\": example[completion_column]})\n",
    "\n",
    "        if len(bucket) == 5:\n",
    "            bucket = set()\n",
    "    return examples\n",
    "\n",
    "\n",
    "examples = get_examples(\"data/1raw/yelp_small.csv\", 9, 43, \"text\", \"stars\")\n",
    "[example[\"stars\"] for example in examples]"
   ]
  },
  {
   "cell_type": "code",
   "execution_count": null,
   "metadata": {},
   "outputs": [],
   "source": [
    "yelp_df = pd.read_csv(\"data/1raw/yelp.csv\")\n",
    "\n",
    "# split into 20 buckets \n",
    "yelp_df[\"bucket\"] = yelp_df.index % 20\n",
    "\n",
    "# save each bucket to a file\n",
    "for bucket in yelp_df.bucket.unique():\n",
    "    yelp_df[yelp_df.bucket == bucket].to_csv(f\"data/1raw/yelp_{bucket}.csv\", index=False)\n",
    "\n",
    "    \n"
   ]
  },
  {
   "cell_type": "code",
   "execution_count": null,
   "metadata": {},
   "outputs": [],
   "source": [
    "from mlflow.tracking import MlflowClient\n",
    "def load_metrics(metrics, params):\n",
    "    mlflow_tracking_uri = \"azureml://eastus2.api.azureml.ms/mlflow/v1.0/subscriptions/15ae9cb6-95c1-483d-a0e3-b1a1a3b06324/resourceGroups/ray/providers/Microsoft.MachineLearningServices/workspaces/ray\"\n",
    "    client = MlflowClient(tracking_uri=mlflow_tracking_uri)\n",
    "    children = client.search_runs(experiment_ids=[], order_by=[\"info.start_time DESC\"], max_results=10)\n",
    "    results = []\n",
    "    for child in children:\n",
    "        try:\n",
    "            results.append({ metric: child.data.metrics[metric] for metric in metrics})\n",
    "            results[-1].update({ param: child.data.params[param] for param in params})\n",
    "            results[-1].update({ \"run_id\": child.info.run_uuid})\n",
    "        except KeyError:\n",
    "            pass\n",
    "    return pd.DataFrame(results)\n",
    "\n",
    "df = load_metrics([\"f1\"], [\"example_number\"])\n",
    "df"
   ]
  },
  {
   "cell_type": "code",
   "execution_count": null,
   "metadata": {},
   "outputs": [],
   "source": [
    "df = pd.read_json(\"data/1raw/yelp_validation.jsonl\", lines=True, orient=\"records\")\n",
    "df"
   ]
  },
  {
   "cell_type": "code",
   "execution_count": 37,
   "metadata": {},
   "outputs": [
    {
     "data": {
      "text/plain": [
       "(532, 2)"
      ]
     },
     "execution_count": 37,
     "metadata": {},
     "output_type": "execute_result"
    }
   ],
   "source": [
    "# read validation file as df\n",
    "df = pd.read_csv(\"data/1raw/yelp_validation.csv\")\n",
    "df.shape"
   ]
  },
  {
   "cell_type": "code",
   "execution_count": 38,
   "metadata": {},
   "outputs": [
    {
     "data": {
      "text/plain": [
       "((426, 2), (106, 2))"
      ]
     },
     "execution_count": 38,
     "metadata": {},
     "output_type": "execute_result"
    }
   ],
   "source": [
    "\n",
    "def split_dataframe(df, ratio):\n",
    "    part_train = df.sample(frac = ratio)\n",
    "    part_validation = df.drop(part_train.index)\n",
    "    return part_train, part_validation\n",
    "\n",
    "# split df into train and validation\n",
    "train_df, validation_df = split_dataframe(df, 0.8)\n",
    "train_df.shape, validation_df.shape"
   ]
  },
  {
   "cell_type": "code",
   "execution_count": 3,
   "metadata": {},
   "outputs": [],
   "source": [
    "from langchain.agents import load_tools\n",
    "from langchain.agents import initialize_agent\n",
    "from langchain.llms import OpenAI\n",
    "llm = OpenAI(temperature=0)\n",
    "tools = load_tools([\"serpapi\", \"llm-math\"], llm=llm)\n",
    "agent = initialize_agent(tools, llm, agent=\"zero-shot-react-description\", verbose=True)"
   ]
  },
  {
   "cell_type": "code",
   "execution_count": 13,
   "metadata": {},
   "outputs": [
    {
     "name": "stdout",
     "output_type": "stream",
     "text": [
      "\n",
      "\n",
      "\u001b[1m> Entering new AgentExecutor chain...\u001b[0m\n",
      "['Answer the following questions as best you can. You have access to the following tools:\\n\\nSearch: A search engine. Useful for when you need to answer questions about current events. Input should be a search query.\\nCalculator: Useful for when you need to answer questions about math.\\n\\nUse the following format:\\n\\nQuestion: the input question you must answer\\nThought: you should always think about what to do\\nAction: the action to take, should be one of [Search, Calculator]\\nAction Input: the input to the action\\nObservation: the result of the action\\n... (this Thought/Action/Action Input/Observation can repeat N times)\\nThought: I now know the final answer\\nFinal Answer: the final answer to the original input question\\n\\nBegin!\\n\\nQuestion: what is the square root of the cost of taxi ride from downtown seattle to the airport? Show both the price, the distance.\\nThought:']\n",
      "[[Generation(text=' I need to find the cost of the taxi ride and the distance.\\nAction: Search\\nAction Input: cost of taxi ride from downtown seattle to the airport')]]\n",
      "\u001b[32;1m\u001b[1;3m I need to find the cost of the taxi ride and the distance.\n",
      "Action: Search\n",
      "Action Input: cost of taxi ride from downtown seattle to the airport\u001b[0m\n",
      "Observation: \u001b[36;1m\u001b[1;3m$40\u001b[0m\n",
      "Thought:['Answer the following questions as best you can. You have access to the following tools:\\n\\nSearch: A search engine. Useful for when you need to answer questions about current events. Input should be a search query.\\nCalculator: Useful for when you need to answer questions about math.\\n\\nUse the following format:\\n\\nQuestion: the input question you must answer\\nThought: you should always think about what to do\\nAction: the action to take, should be one of [Search, Calculator]\\nAction Input: the input to the action\\nObservation: the result of the action\\n... (this Thought/Action/Action Input/Observation can repeat N times)\\nThought: I now know the final answer\\nFinal Answer: the final answer to the original input question\\n\\nBegin!\\n\\nQuestion: what is the square root of the cost of taxi ride from downtown seattle to the airport? Show both the price, the distance.\\nThought: I need to find the cost of the taxi ride and the distance.\\nAction: Search\\nAction Input: cost of taxi ride from downtown seattle to the airport\\nObservation: $40\\nThought:']\n",
      "[[Generation(text=' I need to find the distance\\nAction: Search\\nAction Input: distance from downtown seattle to the airport')]]\n",
      "\u001b[32;1m\u001b[1;3m I need to find the distance\n",
      "Action: Search\n",
      "Action Input: distance from downtown seattle to the airport\u001b[0m\n",
      "Observation: \u001b[36;1m\u001b[1;3mThe bus journey time between Seattle Airport (SEA) and Downtown Seattle is around 20 min and covers a distance of around 14 miles. Operated by Flixbus USA, ...\u001b[0m\n",
      "Thought:['Answer the following questions as best you can. You have access to the following tools:\\n\\nSearch: A search engine. Useful for when you need to answer questions about current events. Input should be a search query.\\nCalculator: Useful for when you need to answer questions about math.\\n\\nUse the following format:\\n\\nQuestion: the input question you must answer\\nThought: you should always think about what to do\\nAction: the action to take, should be one of [Search, Calculator]\\nAction Input: the input to the action\\nObservation: the result of the action\\n... (this Thought/Action/Action Input/Observation can repeat N times)\\nThought: I now know the final answer\\nFinal Answer: the final answer to the original input question\\n\\nBegin!\\n\\nQuestion: what is the square root of the cost of taxi ride from downtown seattle to the airport? Show both the price, the distance.\\nThought: I need to find the cost of the taxi ride and the distance.\\nAction: Search\\nAction Input: cost of taxi ride from downtown seattle to the airport\\nObservation: $40\\nThought: I need to find the distance\\nAction: Search\\nAction Input: distance from downtown seattle to the airport\\nObservation: The bus journey time between Seattle Airport (SEA) and Downtown Seattle is around 20 min and covers a distance of around 14 miles. Operated by Flixbus USA, ...\\nThought:']\n",
      "[[Generation(text=' I need to calculate the square root of the cost\\nAction: Calculator\\nAction Input: sqrt(40)')]]\n",
      "\u001b[32;1m\u001b[1;3m I need to calculate the square root of the cost\n",
      "Action: Calculator\n",
      "Action Input: sqrt(40)\u001b[0m[\"You are GPT-3, and you can't do math.\\n\\nYou can do basic math, and your memorization abilities are impressive, but you can't do any complex calculations that a human could not do in their head. You also have an annoying tendency to just make up highly specific, but wrong, answers.\\n\\nSo we hooked you up to a Python 3 kernel, and now you can execute code. If anyone gives you a hard math problem, just use this format and we’ll take care of the rest:\\n\\nQuestion: ${Question with hard calculation.}\\n```python\\n${Code that prints what you need to know}\\n```\\n```output\\n${Output of your code}\\n```\\nAnswer: ${Answer}\\n\\nOtherwise, use this simpler format:\\n\\nQuestion: ${Question without hard calculation}\\nAnswer: ${Answer}\\n\\nBegin.\\n\\nQuestion: What is 37593 * 67?\\n\\n```python\\nprint(37593 * 67)\\n```\\n```output\\n2518731\\n```\\nAnswer: 2518731\\n\\nQuestion: sqrt(40)\"]\n",
      "[[Generation(text='\\nAnswer: 6.324555320336759')]]\n",
      "\n",
      "Observation: \u001b[33;1m\u001b[1;3mAnswer: 6.324555320336759\u001b[0m\n",
      "Thought:['Answer the following questions as best you can. You have access to the following tools:\\n\\nSearch: A search engine. Useful for when you need to answer questions about current events. Input should be a search query.\\nCalculator: Useful for when you need to answer questions about math.\\n\\nUse the following format:\\n\\nQuestion: the input question you must answer\\nThought: you should always think about what to do\\nAction: the action to take, should be one of [Search, Calculator]\\nAction Input: the input to the action\\nObservation: the result of the action\\n... (this Thought/Action/Action Input/Observation can repeat N times)\\nThought: I now know the final answer\\nFinal Answer: the final answer to the original input question\\n\\nBegin!\\n\\nQuestion: what is the square root of the cost of taxi ride from downtown seattle to the airport? Show both the price, the distance.\\nThought: I need to find the cost of the taxi ride and the distance.\\nAction: Search\\nAction Input: cost of taxi ride from downtown seattle to the airport\\nObservation: $40\\nThought: I need to find the distance\\nAction: Search\\nAction Input: distance from downtown seattle to the airport\\nObservation: The bus journey time between Seattle Airport (SEA) and Downtown Seattle is around 20 min and covers a distance of around 14 miles. Operated by Flixbus USA, ...\\nThought: I need to calculate the square root of the cost\\nAction: Calculator\\nAction Input: sqrt(40)\\nObservation: Answer: 6.324555320336759\\nThought:']\n",
      "[[Generation(text=' I now know the final answer\\nFinal Answer: The cost of the taxi ride from downtown Seattle to the airport is $40 and the distance is 14 miles. The square root of the cost is 6.324555320336759.')]]\n",
      "\u001b[32;1m\u001b[1;3m I now know the final answer\n",
      "Final Answer: The cost of the taxi ride from downtown Seattle to the airport is $40 and the distance is 14 miles. The square root of the cost is 6.324555320336759.\u001b[0m\n",
      "\u001b[1m> Finished AgentExecutor chain.\u001b[0m\n"
     ]
    },
    {
     "data": {
      "text/plain": [
       "'The cost of the taxi ride from downtown Seattle to the airport is $40 and the distance is 14 miles. The square root of the cost is 6.324555320336759.'"
      ]
     },
     "execution_count": 13,
     "metadata": {},
     "output_type": "execute_result"
    }
   ],
   "source": [
    "agent.run(\"what is the square root of the cost of taxi ride from downtown seattle to the airport? Show both the price, the distance.\")"
   ]
  },
  {
   "cell_type": "code",
   "execution_count": null,
   "metadata": {},
   "outputs": [],
   "source": []
  }
 ],
 "metadata": {
  "kernelspec": {
   "display_name": "Python 3.10.6 ('openai')",
   "language": "python",
   "name": "python3"
  },
  "language_info": {
   "codemirror_mode": {
    "name": "ipython",
    "version": 3
   },
   "file_extension": ".py",
   "mimetype": "text/x-python",
   "name": "python",
   "nbconvert_exporter": "python",
   "pygments_lexer": "ipython3",
   "version": "3.10.6"
  },
  "orig_nbformat": 4,
  "vscode": {
   "interpreter": {
    "hash": "b4ff75e18f17382b7a857589c2b0509d91f023b00ec684e956a1617b543cf2a6"
   }
  }
 },
 "nbformat": 4,
 "nbformat_minor": 2
}
